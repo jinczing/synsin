{
 "cells": [
  {
   "cell_type": "code",
   "execution_count": 5,
   "metadata": {},
   "outputs": [],
   "source": [
    "import os\n",
    "import cv2\n",
    "import torch\n",
    "import numpy as np\n",
    "from PIL import Image\n",
    "from torchvision import transforms\n",
    "from models.projection.z_buffer_manipulator import EquiPtsManipulator"
   ]
  },
  {
   "cell_type": "code",
   "execution_count": null,
   "metadata": {},
   "outputs": [],
   "source": [
    "def transfer_xyz_equi(depth):\n",
    "        batch_size = depth.size()[0]\n",
    "        equ_w = depth.size()[3]\n",
    "        equ_h = depth.size()[2]\n",
    "        cen_x = (equ_w - 1) / 2.0\n",
    "        cen_y = (equ_h - 1) / 2.0\n",
    "        theta = (2 * (torch.arange(equ_w) - cen_x) / equ_w) * PI\n",
    "        phi = (2 * (torch.arange(equ_h) - cen_y) / equ_h) * (PI / 2)\n",
    "        theta = theta[None, :].repeat(equ_h, 1)\n",
    "        phi = phi[None, :].repeat(equ_w, 1).T\n",
    "\n",
    "        x = (torch.cos(phi) * torch.sin(theta)).unsqueeze(0).unsqueeze(0)\n",
    "        y = (torch.sin(phi)).unsqueeze(0).unsqueeze(0)\n",
    "        z = (torch.cos(phi) * torch.cos(theta)).unsqueeze(0).unsqueeze(0)\n",
    "        xyz = torch.cat([x, y, z], 1).repeat(batch_size, 1, 1, 1).permute(0, 2, 3, 1)\n",
    "        # xyz: batch x H x W x 3\n",
    "\n",
    "        return xyz"
   ]
  },
  {
   "cell_type": "code",
   "execution_count": 6,
   "metadata": {},
   "outputs": [
    {
     "data": {
      "text/plain": [
       "torch.Size([1, 3, 256, 512])"
      ]
     },
     "execution_count": 6,
     "metadata": {},
     "output_type": "execute_result"
    }
   ],
   "source": [
    "input_path = './demos/hallway.jpg'\n",
    "inputs = Image.open(input_path).convert(\"RGB\")\n",
    "inputs = np.array(inputs, np.float32) / 255\n",
    "inputs = cv2.resize(inputs, (512, 256), interpolation=cv2.INTER_NEAREST)\n",
    "inputs = transforms.ToTensor()(inputs).unsqueeze(0) # batch x 3 x H x W\n",
    "inputs.shape"
   ]
  },
  {
   "cell_type": "code",
   "execution_count": null,
   "metadata": {},
   "outputs": [],
   "source": [
    "input_path = './demos/hallway.jpg'\n",
    "inputs = Image.open(input_path).convert(\"RGB\")\n",
    "inputs = np.array(inputs, np.float32) / 255\n",
    "inputs = cv2.resize(inputs, (512, 256), interpolation=cv2.INTER_NEAREST)\n",
    "inputs = transforms.ToTensor()(inputs).unsqueeze(0) # batch x 3 x H x W\n",
    "regressed_pts = torch.ones((1, 1, 256, 512))\n",
    "transformer = EquiPtsManipulator(256, 512, 3)\n",
    "outputs = transformer.forward_justpts(\n",
    "            inputs,\n",
    "            regressed_pts,\n",
    "            K,\n",
    "            K_inv,\n",
    "            input_RT,\n",
    "            input_RTinv,\n",
    "            output_RT,\n",
    "            output_RTinv,\n",
    "        )\n",
    "outputs.shape"
   ]
  }
 ],
 "metadata": {
  "kernelspec": {
   "display_name": "Python 3",
   "language": "python",
   "name": "python3"
  },
  "language_info": {
   "codemirror_mode": {
    "name": "ipython",
    "version": 3
   },
   "file_extension": ".py",
   "mimetype": "text/x-python",
   "name": "python",
   "nbconvert_exporter": "python",
   "pygments_lexer": "ipython3",
   "version": "3.6.10"
  }
 },
 "nbformat": 4,
 "nbformat_minor": 4
}
